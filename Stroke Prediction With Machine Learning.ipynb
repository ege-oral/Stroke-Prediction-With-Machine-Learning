{
 "cells": [
  {
   "cell_type": "code",
   "execution_count": 1,
   "metadata": {},
   "outputs": [],
   "source": [
    "# Libraries\n",
    "import numpy as np\n",
    "import pandas as pd\n",
    "import matplotlib.pyplot as plt\n",
    "import seaborn as sns\n",
    "\n",
    "from sklearn.linear_model import LogisticRegression\n",
    "from sklearn.neighbors import KNeighborsClassifier\n",
    "from sklearn.naive_bayes import GaussianNB\n",
    "from sklearn.naive_bayes import BernoulliNB\n",
    "from sklearn.svm import SVC\n",
    "from sklearn.tree import DecisionTreeClassifier\n",
    "from sklearn.ensemble import RandomForestClassifier\n",
    "from xgboost import XGBClassifier\n",
    "\n",
    "from sklearn.model_selection import GridSearchCV\n",
    "from sklearn.model_selection import train_test_split\n",
    "from imblearn.over_sampling import SMOTE\n",
    "from sklearn.metrics import (accuracy_score,confusion_matrix,roc_auc_score,\n",
    "precision_score,recall_score,f1_score,classification_report,average_precision_score)"
   ]
  },
  {
   "cell_type": "code",
   "execution_count": 2,
   "metadata": {},
   "outputs": [
    {
     "data": {
      "text/html": [
       "<div>\n",
       "<style scoped>\n",
       "    .dataframe tbody tr th:only-of-type {\n",
       "        vertical-align: middle;\n",
       "    }\n",
       "\n",
       "    .dataframe tbody tr th {\n",
       "        vertical-align: top;\n",
       "    }\n",
       "\n",
       "    .dataframe thead th {\n",
       "        text-align: right;\n",
       "    }\n",
       "</style>\n",
       "<table border=\"1\" class=\"dataframe\">\n",
       "  <thead>\n",
       "    <tr style=\"text-align: right;\">\n",
       "      <th></th>\n",
       "      <th>id</th>\n",
       "      <th>gender</th>\n",
       "      <th>age</th>\n",
       "      <th>hypertension</th>\n",
       "      <th>heart_disease</th>\n",
       "      <th>ever_married</th>\n",
       "      <th>work_type</th>\n",
       "      <th>Residence_type</th>\n",
       "      <th>avg_glucose_level</th>\n",
       "      <th>bmi</th>\n",
       "      <th>smoking_status</th>\n",
       "      <th>stroke</th>\n",
       "    </tr>\n",
       "  </thead>\n",
       "  <tbody>\n",
       "    <tr>\n",
       "      <th>0</th>\n",
       "      <td>9046</td>\n",
       "      <td>Male</td>\n",
       "      <td>67.0</td>\n",
       "      <td>0</td>\n",
       "      <td>1</td>\n",
       "      <td>Yes</td>\n",
       "      <td>Private</td>\n",
       "      <td>Urban</td>\n",
       "      <td>228.69</td>\n",
       "      <td>36.6</td>\n",
       "      <td>formerly smoked</td>\n",
       "      <td>1</td>\n",
       "    </tr>\n",
       "    <tr>\n",
       "      <th>1</th>\n",
       "      <td>51676</td>\n",
       "      <td>Female</td>\n",
       "      <td>61.0</td>\n",
       "      <td>0</td>\n",
       "      <td>0</td>\n",
       "      <td>Yes</td>\n",
       "      <td>Self-employed</td>\n",
       "      <td>Rural</td>\n",
       "      <td>202.21</td>\n",
       "      <td>NaN</td>\n",
       "      <td>never smoked</td>\n",
       "      <td>1</td>\n",
       "    </tr>\n",
       "    <tr>\n",
       "      <th>2</th>\n",
       "      <td>31112</td>\n",
       "      <td>Male</td>\n",
       "      <td>80.0</td>\n",
       "      <td>0</td>\n",
       "      <td>1</td>\n",
       "      <td>Yes</td>\n",
       "      <td>Private</td>\n",
       "      <td>Rural</td>\n",
       "      <td>105.92</td>\n",
       "      <td>32.5</td>\n",
       "      <td>never smoked</td>\n",
       "      <td>1</td>\n",
       "    </tr>\n",
       "    <tr>\n",
       "      <th>3</th>\n",
       "      <td>60182</td>\n",
       "      <td>Female</td>\n",
       "      <td>49.0</td>\n",
       "      <td>0</td>\n",
       "      <td>0</td>\n",
       "      <td>Yes</td>\n",
       "      <td>Private</td>\n",
       "      <td>Urban</td>\n",
       "      <td>171.23</td>\n",
       "      <td>34.4</td>\n",
       "      <td>smokes</td>\n",
       "      <td>1</td>\n",
       "    </tr>\n",
       "    <tr>\n",
       "      <th>4</th>\n",
       "      <td>1665</td>\n",
       "      <td>Female</td>\n",
       "      <td>79.0</td>\n",
       "      <td>1</td>\n",
       "      <td>0</td>\n",
       "      <td>Yes</td>\n",
       "      <td>Self-employed</td>\n",
       "      <td>Rural</td>\n",
       "      <td>174.12</td>\n",
       "      <td>24.0</td>\n",
       "      <td>never smoked</td>\n",
       "      <td>1</td>\n",
       "    </tr>\n",
       "    <tr>\n",
       "      <th>5</th>\n",
       "      <td>56669</td>\n",
       "      <td>Male</td>\n",
       "      <td>81.0</td>\n",
       "      <td>0</td>\n",
       "      <td>0</td>\n",
       "      <td>Yes</td>\n",
       "      <td>Private</td>\n",
       "      <td>Urban</td>\n",
       "      <td>186.21</td>\n",
       "      <td>29.0</td>\n",
       "      <td>formerly smoked</td>\n",
       "      <td>1</td>\n",
       "    </tr>\n",
       "    <tr>\n",
       "      <th>6</th>\n",
       "      <td>53882</td>\n",
       "      <td>Male</td>\n",
       "      <td>74.0</td>\n",
       "      <td>1</td>\n",
       "      <td>1</td>\n",
       "      <td>Yes</td>\n",
       "      <td>Private</td>\n",
       "      <td>Rural</td>\n",
       "      <td>70.09</td>\n",
       "      <td>27.4</td>\n",
       "      <td>never smoked</td>\n",
       "      <td>1</td>\n",
       "    </tr>\n",
       "    <tr>\n",
       "      <th>7</th>\n",
       "      <td>10434</td>\n",
       "      <td>Female</td>\n",
       "      <td>69.0</td>\n",
       "      <td>0</td>\n",
       "      <td>0</td>\n",
       "      <td>No</td>\n",
       "      <td>Private</td>\n",
       "      <td>Urban</td>\n",
       "      <td>94.39</td>\n",
       "      <td>22.8</td>\n",
       "      <td>never smoked</td>\n",
       "      <td>1</td>\n",
       "    </tr>\n",
       "    <tr>\n",
       "      <th>8</th>\n",
       "      <td>27419</td>\n",
       "      <td>Female</td>\n",
       "      <td>59.0</td>\n",
       "      <td>0</td>\n",
       "      <td>0</td>\n",
       "      <td>Yes</td>\n",
       "      <td>Private</td>\n",
       "      <td>Rural</td>\n",
       "      <td>76.15</td>\n",
       "      <td>NaN</td>\n",
       "      <td>Unknown</td>\n",
       "      <td>1</td>\n",
       "    </tr>\n",
       "    <tr>\n",
       "      <th>9</th>\n",
       "      <td>60491</td>\n",
       "      <td>Female</td>\n",
       "      <td>78.0</td>\n",
       "      <td>0</td>\n",
       "      <td>0</td>\n",
       "      <td>Yes</td>\n",
       "      <td>Private</td>\n",
       "      <td>Urban</td>\n",
       "      <td>58.57</td>\n",
       "      <td>24.2</td>\n",
       "      <td>Unknown</td>\n",
       "      <td>1</td>\n",
       "    </tr>\n",
       "  </tbody>\n",
       "</table>\n",
       "</div>"
      ],
      "text/plain": [
       "      id  gender   age  hypertension  heart_disease ever_married  \\\n",
       "0   9046    Male  67.0             0              1          Yes   \n",
       "1  51676  Female  61.0             0              0          Yes   \n",
       "2  31112    Male  80.0             0              1          Yes   \n",
       "3  60182  Female  49.0             0              0          Yes   \n",
       "4   1665  Female  79.0             1              0          Yes   \n",
       "5  56669    Male  81.0             0              0          Yes   \n",
       "6  53882    Male  74.0             1              1          Yes   \n",
       "7  10434  Female  69.0             0              0           No   \n",
       "8  27419  Female  59.0             0              0          Yes   \n",
       "9  60491  Female  78.0             0              0          Yes   \n",
       "\n",
       "       work_type Residence_type  avg_glucose_level   bmi   smoking_status  \\\n",
       "0        Private          Urban             228.69  36.6  formerly smoked   \n",
       "1  Self-employed          Rural             202.21   NaN     never smoked   \n",
       "2        Private          Rural             105.92  32.5     never smoked   \n",
       "3        Private          Urban             171.23  34.4           smokes   \n",
       "4  Self-employed          Rural             174.12  24.0     never smoked   \n",
       "5        Private          Urban             186.21  29.0  formerly smoked   \n",
       "6        Private          Rural              70.09  27.4     never smoked   \n",
       "7        Private          Urban              94.39  22.8     never smoked   \n",
       "8        Private          Rural              76.15   NaN          Unknown   \n",
       "9        Private          Urban              58.57  24.2          Unknown   \n",
       "\n",
       "   stroke  \n",
       "0       1  \n",
       "1       1  \n",
       "2       1  \n",
       "3       1  \n",
       "4       1  \n",
       "5       1  \n",
       "6       1  \n",
       "7       1  \n",
       "8       1  \n",
       "9       1  "
      ]
     },
     "execution_count": 2,
     "metadata": {},
     "output_type": "execute_result"
    }
   ],
   "source": [
    "# Data Frame Location\n",
    "df = pd.read_csv('C:\\\\Users\\\\E2\\\\Desktop\\\\Data Sets\\\\healthcare-dataset-stroke-data.csv')\n",
    "df.head(10)"
   ]
  },
  {
   "cell_type": "code",
   "execution_count": 3,
   "metadata": {},
   "outputs": [
    {
     "name": "stdout",
     "output_type": "stream",
     "text": [
      "<class 'pandas.core.frame.DataFrame'>\n",
      "RangeIndex: 5110 entries, 0 to 5109\n",
      "Data columns (total 12 columns):\n",
      " #   Column             Non-Null Count  Dtype  \n",
      "---  ------             --------------  -----  \n",
      " 0   id                 5110 non-null   int64  \n",
      " 1   gender             5110 non-null   object \n",
      " 2   age                5110 non-null   float64\n",
      " 3   hypertension       5110 non-null   int64  \n",
      " 4   heart_disease      5110 non-null   int64  \n",
      " 5   ever_married       5110 non-null   object \n",
      " 6   work_type          5110 non-null   object \n",
      " 7   Residence_type     5110 non-null   object \n",
      " 8   avg_glucose_level  5110 non-null   float64\n",
      " 9   bmi                4909 non-null   float64\n",
      " 10  smoking_status     5110 non-null   object \n",
      " 11  stroke             5110 non-null   int64  \n",
      "dtypes: float64(3), int64(4), object(5)\n",
      "memory usage: 479.2+ KB\n"
     ]
    }
   ],
   "source": [
    "sns.set()\n",
    "df.info()"
   ]
  },
  {
   "cell_type": "code",
   "execution_count": 4,
   "metadata": {},
   "outputs": [],
   "source": [
    "# Filling Missing Bmi Values\n",
    "df['bmi'].fillna(df['bmi'].mean(), inplace=True)"
   ]
  },
  {
   "cell_type": "code",
   "execution_count": 5,
   "metadata": {},
   "outputs": [
    {
     "name": "stdout",
     "output_type": "stream",
     "text": [
      "<class 'pandas.core.frame.DataFrame'>\n",
      "RangeIndex: 5110 entries, 0 to 5109\n",
      "Data columns (total 12 columns):\n",
      " #   Column             Non-Null Count  Dtype  \n",
      "---  ------             --------------  -----  \n",
      " 0   id                 5110 non-null   int64  \n",
      " 1   gender             5110 non-null   object \n",
      " 2   age                5110 non-null   float64\n",
      " 3   hypertension       5110 non-null   int64  \n",
      " 4   heart_disease      5110 non-null   int64  \n",
      " 5   ever_married       5110 non-null   object \n",
      " 6   work_type          5110 non-null   object \n",
      " 7   Residence_type     5110 non-null   object \n",
      " 8   avg_glucose_level  5110 non-null   float64\n",
      " 9   bmi                5110 non-null   float64\n",
      " 10  smoking_status     5110 non-null   object \n",
      " 11  stroke             5110 non-null   int64  \n",
      "dtypes: float64(3), int64(4), object(5)\n",
      "memory usage: 479.2+ KB\n"
     ]
    }
   ],
   "source": [
    "df.info()"
   ]
  },
  {
   "cell_type": "code",
   "execution_count": 6,
   "metadata": {},
   "outputs": [],
   "source": [
    "# Replacing Categorical Values To Numerical Values\n",
    "df['gender'] = df['gender'].replace({'Male':0, 'Female':1, 'Other':2}).astype(np.uint8)\n",
    "df['Residence_type'] = df['Residence_type'].replace({'Rural':0,'Urban':1}).astype(np.uint8)\n",
    "df['work_type'] = df['work_type'].replace(\n",
    "    {'Private':0,'Self-employed':1,'Govt_job':2,'children':3,'Never_worked':4}).astype(np.uint8)\n",
    "df['smoking_status'] = df['smoking_status'].replace(\n",
    "    {'never smoked':0, 'Unknown':1, 'formerly smoked':2, 'smokes':3}).astype(np.uint8)"
   ]
  },
  {
   "cell_type": "code",
   "execution_count": 7,
   "metadata": {},
   "outputs": [],
   "source": [
    "# Splitting The Data To Test And Train\n",
    "X= df[['gender','age','hypertension','heart_disease','work_type','avg_glucose_level','bmi', 'Residence_type', 'smoking_status']]\n",
    "y= df['stroke']\n",
    "X_train, X_test, y_train, y_test = train_test_split(X, y, train_size=0.3, random_state=42)"
   ]
  },
  {
   "cell_type": "code",
   "execution_count": 8,
   "metadata": {},
   "outputs": [
    {
     "data": {
      "text/html": [
       "<div>\n",
       "<style scoped>\n",
       "    .dataframe tbody tr th:only-of-type {\n",
       "        vertical-align: middle;\n",
       "    }\n",
       "\n",
       "    .dataframe tbody tr th {\n",
       "        vertical-align: top;\n",
       "    }\n",
       "\n",
       "    .dataframe thead th {\n",
       "        text-align: right;\n",
       "    }\n",
       "</style>\n",
       "<table border=\"1\" class=\"dataframe\">\n",
       "  <thead>\n",
       "    <tr style=\"text-align: right;\">\n",
       "      <th></th>\n",
       "      <th>gender</th>\n",
       "      <th>age</th>\n",
       "      <th>hypertension</th>\n",
       "      <th>heart_disease</th>\n",
       "      <th>work_type</th>\n",
       "      <th>avg_glucose_level</th>\n",
       "      <th>bmi</th>\n",
       "      <th>Residence_type</th>\n",
       "      <th>smoking_status</th>\n",
       "    </tr>\n",
       "  </thead>\n",
       "  <tbody>\n",
       "    <tr>\n",
       "      <th>4688</th>\n",
       "      <td>0</td>\n",
       "      <td>31.00</td>\n",
       "      <td>0</td>\n",
       "      <td>0</td>\n",
       "      <td>1</td>\n",
       "      <td>64.85</td>\n",
       "      <td>23.000000</td>\n",
       "      <td>0</td>\n",
       "      <td>1</td>\n",
       "    </tr>\n",
       "    <tr>\n",
       "      <th>4478</th>\n",
       "      <td>0</td>\n",
       "      <td>40.00</td>\n",
       "      <td>0</td>\n",
       "      <td>0</td>\n",
       "      <td>1</td>\n",
       "      <td>65.29</td>\n",
       "      <td>28.300000</td>\n",
       "      <td>0</td>\n",
       "      <td>0</td>\n",
       "    </tr>\n",
       "    <tr>\n",
       "      <th>3849</th>\n",
       "      <td>1</td>\n",
       "      <td>8.00</td>\n",
       "      <td>0</td>\n",
       "      <td>0</td>\n",
       "      <td>3</td>\n",
       "      <td>74.42</td>\n",
       "      <td>22.500000</td>\n",
       "      <td>1</td>\n",
       "      <td>1</td>\n",
       "    </tr>\n",
       "    <tr>\n",
       "      <th>4355</th>\n",
       "      <td>1</td>\n",
       "      <td>79.00</td>\n",
       "      <td>1</td>\n",
       "      <td>0</td>\n",
       "      <td>1</td>\n",
       "      <td>76.64</td>\n",
       "      <td>19.500000</td>\n",
       "      <td>0</td>\n",
       "      <td>0</td>\n",
       "    </tr>\n",
       "    <tr>\n",
       "      <th>3826</th>\n",
       "      <td>1</td>\n",
       "      <td>75.00</td>\n",
       "      <td>0</td>\n",
       "      <td>0</td>\n",
       "      <td>2</td>\n",
       "      <td>94.77</td>\n",
       "      <td>27.200000</td>\n",
       "      <td>0</td>\n",
       "      <td>0</td>\n",
       "    </tr>\n",
       "    <tr>\n",
       "      <th>3951</th>\n",
       "      <td>1</td>\n",
       "      <td>79.00</td>\n",
       "      <td>1</td>\n",
       "      <td>0</td>\n",
       "      <td>1</td>\n",
       "      <td>92.43</td>\n",
       "      <td>28.893237</td>\n",
       "      <td>0</td>\n",
       "      <td>0</td>\n",
       "    </tr>\n",
       "    <tr>\n",
       "      <th>3396</th>\n",
       "      <td>1</td>\n",
       "      <td>56.00</td>\n",
       "      <td>1</td>\n",
       "      <td>0</td>\n",
       "      <td>0</td>\n",
       "      <td>97.37</td>\n",
       "      <td>34.100000</td>\n",
       "      <td>0</td>\n",
       "      <td>3</td>\n",
       "    </tr>\n",
       "    <tr>\n",
       "      <th>465</th>\n",
       "      <td>0</td>\n",
       "      <td>69.00</td>\n",
       "      <td>0</td>\n",
       "      <td>0</td>\n",
       "      <td>0</td>\n",
       "      <td>101.52</td>\n",
       "      <td>26.800000</td>\n",
       "      <td>0</td>\n",
       "      <td>3</td>\n",
       "    </tr>\n",
       "    <tr>\n",
       "      <th>410</th>\n",
       "      <td>0</td>\n",
       "      <td>7.00</td>\n",
       "      <td>0</td>\n",
       "      <td>0</td>\n",
       "      <td>1</td>\n",
       "      <td>64.06</td>\n",
       "      <td>18.900000</td>\n",
       "      <td>0</td>\n",
       "      <td>1</td>\n",
       "    </tr>\n",
       "    <tr>\n",
       "      <th>1632</th>\n",
       "      <td>1</td>\n",
       "      <td>1.48</td>\n",
       "      <td>0</td>\n",
       "      <td>0</td>\n",
       "      <td>3</td>\n",
       "      <td>55.51</td>\n",
       "      <td>18.500000</td>\n",
       "      <td>0</td>\n",
       "      <td>1</td>\n",
       "    </tr>\n",
       "  </tbody>\n",
       "</table>\n",
       "</div>"
      ],
      "text/plain": [
       "      gender    age  hypertension  heart_disease  work_type  \\\n",
       "4688       0  31.00             0              0          1   \n",
       "4478       0  40.00             0              0          1   \n",
       "3849       1   8.00             0              0          3   \n",
       "4355       1  79.00             1              0          1   \n",
       "3826       1  75.00             0              0          2   \n",
       "3951       1  79.00             1              0          1   \n",
       "3396       1  56.00             1              0          0   \n",
       "465        0  69.00             0              0          0   \n",
       "410        0   7.00             0              0          1   \n",
       "1632       1   1.48             0              0          3   \n",
       "\n",
       "      avg_glucose_level        bmi  Residence_type  smoking_status  \n",
       "4688              64.85  23.000000               0               1  \n",
       "4478              65.29  28.300000               0               0  \n",
       "3849              74.42  22.500000               1               1  \n",
       "4355              76.64  19.500000               0               0  \n",
       "3826              94.77  27.200000               0               0  \n",
       "3951              92.43  28.893237               0               0  \n",
       "3396              97.37  34.100000               0               3  \n",
       "465              101.52  26.800000               0               3  \n",
       "410               64.06  18.900000               0               1  \n",
       "1632              55.51  18.500000               0               1  "
      ]
     },
     "execution_count": 8,
     "metadata": {},
     "output_type": "execute_result"
    }
   ],
   "source": [
    "X_test.head(10)"
   ]
  },
  {
   "cell_type": "code",
   "execution_count": 9,
   "metadata": {},
   "outputs": [
    {
     "name": "stdout",
     "output_type": "stream",
     "text": [
      "Number of storke case is: 76\n",
      "\n",
      "Number of no-stroke case is: 1457\n"
     ]
    }
   ],
   "source": [
    "# Before SMOTE, Number Of Stroke Case\n",
    "number_of_ones = 0\n",
    "number_of_zeros = 0\n",
    "for i in y_train:\n",
    "    if i == 1:\n",
    "        number_of_ones += 1\n",
    "    elif i == 0:\n",
    "        number_of_zeros += 1\n",
    "print(f'Number of storke case is: {number_of_ones}\\n')\n",
    "print(f'Number of no-stroke case is: {number_of_zeros}')"
   ]
  },
  {
   "cell_type": "code",
   "execution_count": 10,
   "metadata": {},
   "outputs": [
    {
     "data": {
      "text/plain": [
       "Text(0.5, 1.0, 'Before Over')"
      ]
     },
     "execution_count": 10,
     "metadata": {},
     "output_type": "execute_result"
    },
    {
     "data": {
      "image/png": "[encoded data removed]",
      "text/plain": [
       "<Figure size 432x432 with 1 Axes>"
      ]
     },
     "metadata": {},
     "output_type": "display_data"
    }
   ],
   "source": [
    "plt.figure(figsize=(6,6))\n",
    "sns.countplot(y_train)\n",
    "plt.title('Before Over')"
   ]
  },
  {
   "cell_type": "code",
   "execution_count": 11,
   "metadata": {},
   "outputs": [],
   "source": [
    "# SMOTE The Data\n",
    "oversample = SMOTE()\n",
    "X_train_resh, y_train_resh = oversample.fit_resample(X_train, y_train.ravel())"
   ]
  },
  {
   "cell_type": "code",
   "execution_count": 12,
   "metadata": {},
   "outputs": [
    {
     "name": "stdout",
     "output_type": "stream",
     "text": [
      "Number of storke case is: 1457\n",
      "\n",
      "Number of no-stroke case is: 1457\n"
     ]
    }
   ],
   "source": [
    "# After SMOTE, Number Of Stroke Case\n",
    "number_of_ones = 0\n",
    "number_of_zeros = 0\n",
    "for i in y_train_resh:\n",
    "    if i == 1:\n",
    "        number_of_ones += 1\n",
    "    elif i == 0:\n",
    "        number_of_zeros += 1\n",
    "print(f'Number of storke case is: {number_of_ones}\\n')\n",
    "print(f'Number of no-stroke case is: {number_of_zeros}')"
   ]
  },
  {
   "cell_type": "code",
   "execution_count": 13,
   "metadata": {},
   "outputs": [
    {
     "data": {
      "text/plain": [
       "Text(0.5, 1.0, 'After SMOTE')"
      ]
     },
     "execution_count": 13,
     "metadata": {},
     "output_type": "execute_result"
    },
    {
     "data": {
      "image/png": "[encoded data removed]",
      "text/plain": [
       "<Figure size 432x432 with 1 Axes>"
      ]
     },
     "metadata": {},
     "output_type": "display_data"
    }
   ],
   "source": [
    "plt.figure(figsize=(6,6))\n",
    "sns.countplot(y_train_resh)\n",
    "plt.title('After SMOTE')"
   ]
  },
  {
   "cell_type": "code",
   "execution_count": 14,
   "metadata": {},
   "outputs": [],
   "source": [
    "# Models With Default Parameters"
   ]
  },
  {
   "cell_type": "code",
   "execution_count": 15,
   "metadata": {},
   "outputs": [
    {
     "name": "stdout",
     "output_type": "stream",
     "text": [
      "[[2653  751]\n",
      " [  70  103]]\n",
      "\n",
      "\n",
      "              precision    recall  f1-score   support\n",
      "\n",
      "           0       0.97      0.78      0.87      3404\n",
      "           1       0.12      0.60      0.20       173\n",
      "\n",
      "    accuracy                           0.77      3577\n",
      "   macro avg       0.55      0.69      0.53      3577\n",
      "weighted avg       0.93      0.77      0.83      3577\n",
      "\n"
     ]
    }
   ],
   "source": [
    "# Logistic Regression\n",
    "logmodel = LogisticRegression(max_iter=3000)\n",
    "logmodel.fit(X_train_resh, y_train_resh)\n",
    "logmodel_predict = logmodel.predict(X_test)\n",
    "print(confusion_matrix(y_test, logmodel_predict))\n",
    "print('\\n')\n",
    "print(classification_report(y_test, logmodel_predict))"
   ]
  },
  {
   "cell_type": "code",
   "execution_count": 16,
   "metadata": {},
   "outputs": [
    {
     "data": {
      "text/plain": [
       "<AxesSubplot:>"
      ]
     },
     "execution_count": 16,
     "metadata": {},
     "output_type": "execute_result"
    },
    {
     "data": {
      "image/png": "[encoded data removed]",
      "text/plain": [
       "<Figure size 360x360 with 2 Axes>"
      ]
     },
     "metadata": {},
     "output_type": "display_data"
    }
   ],
   "source": [
    "# Logistic Regression Confusion Matrix\n",
    "plt.figure(figsize=(5,5))\n",
    "c_matrix = confusion_matrix(y_test, logmodel_predict)\n",
    "group_names = ['True Neg','False Pos','False Neg','True Pos']\n",
    "group_counts = ['{0:0.0f}'.format(value) for value in\n",
    "                c_matrix.flatten()]\n",
    "group_percentages = ['{0:.2%}'.format(value) for value in\n",
    "                     c_matrix.flatten()/np.sum(c_matrix)]\n",
    "labels = [f'{v1}\\n\\nPrediction: {v2}\\n\\n{v3}' for v1, v2, v3 in\n",
    "          zip(group_names,group_counts,group_percentages)]\n",
    "labels = np.asarray(labels).reshape(2,2)\n",
    "sns.heatmap(c_matrix, annot=labels, fmt='', cmap='Blues')"
   ]
  },
  {
   "cell_type": "code",
   "execution_count": 17,
   "metadata": {},
   "outputs": [
    {
     "name": "stdout",
     "output_type": "stream",
     "text": [
      "[[2330 1074]\n",
      " [  31  142]]\n",
      "\n",
      "\n",
      "              precision    recall  f1-score   support\n",
      "\n",
      "           0       0.99      0.68      0.81      3404\n",
      "           1       0.12      0.82      0.20       173\n",
      "\n",
      "    accuracy                           0.69      3577\n",
      "   macro avg       0.55      0.75      0.51      3577\n",
      "weighted avg       0.94      0.69      0.78      3577\n",
      "\n"
     ]
    }
   ],
   "source": [
    "# Support Vector Machine\n",
    "svcmodel = SVC()\n",
    "svcmodel.fit(X_train_resh, y_train_resh)\n",
    "svcmodel_predict = svcmodel.predict(X_test)\n",
    "print(confusion_matrix(y_test, svcmodel_predict))\n",
    "print('\\n')\n",
    "print(classification_report(y_test, svcmodel_predict))"
   ]
  },
  {
   "cell_type": "code",
   "execution_count": 18,
   "metadata": {},
   "outputs": [
    {
     "data": {
      "text/plain": [
       "<AxesSubplot:>"
      ]
     },
     "execution_count": 18,
     "metadata": {},
     "output_type": "execute_result"
    },
    {
     "data": {
      "image/png": "[encoded data removed]",
      "text/plain": [
       "<Figure size 360x360 with 2 Axes>"
      ]
     },
     "metadata": {},
     "output_type": "display_data"
    }
   ],
   "source": [
    "# Support Vector Machine Confusion Matrix\n",
    "plt.figure(figsize=(5,5))\n",
    "c_matrix = confusion_matrix(y_test, svcmodel_predict)\n",
    "group_names = ['True Neg','False Pos','False Neg','True Pos']\n",
    "group_counts = ['{0:0.0f}'.format(value) for value in\n",
    "                c_matrix.flatten()]\n",
    "group_percentages = ['{0:.2%}'.format(value) for value in\n",
    "                     c_matrix.flatten()/np.sum(c_matrix)]\n",
    "labels = [f'{v1}\\n\\nPrediction: {v2}\\n\\n{v3}' for v1, v2, v3 in\n",
    "          zip(group_names,group_counts,group_percentages)]\n",
    "labels = np.asarray(labels).reshape(2,2)\n",
    "sns.heatmap(c_matrix, annot=labels, fmt='', cmap='Blues')"
   ]
  },
  {
   "cell_type": "code",
   "execution_count": 19,
   "metadata": {},
   "outputs": [
    {
     "name": "stdout",
     "output_type": "stream",
     "text": [
      "[[2700  704]\n",
      " [  86   87]]\n",
      "\n",
      "\n",
      "              precision    recall  f1-score   support\n",
      "\n",
      "           0       0.97      0.79      0.87      3404\n",
      "           1       0.11      0.50      0.18       173\n",
      "\n",
      "    accuracy                           0.78      3577\n",
      "   macro avg       0.54      0.65      0.53      3577\n",
      "weighted avg       0.93      0.78      0.84      3577\n",
      "\n"
     ]
    }
   ],
   "source": [
    "# K Nearest Neighbor\n",
    "knnmodel = KNeighborsClassifier()\n",
    "knnmodel.fit(X_train_resh, y_train_resh)\n",
    "knnmodel_predict = knnmodel.predict(X_test)\n",
    "print(confusion_matrix(y_test, knnmodel_predict))\n",
    "print('\\n')\n",
    "print(classification_report(y_test, knnmodel_predict))"
   ]
  },
  {
   "cell_type": "code",
   "execution_count": 20,
   "metadata": {
    "scrolled": true
   },
   "outputs": [
    {
     "data": {
      "text/plain": [
       "<AxesSubplot:>"
      ]
     },
     "execution_count": 20,
     "metadata": {},
     "output_type": "execute_result"
    },
    {
     "data": {
      "image/png": "[encoded data removed]",
      "text/plain": [
       "<Figure size 360x360 with 2 Axes>"
      ]
     },
     "metadata": {},
     "output_type": "display_data"
    }
   ],
   "source": [
    "# K Nearst Neighbor Confusion Matrix\n",
    "plt.figure(figsize=(5,5))\n",
    "c_matrix = confusion_matrix(y_test, knnmodel_predict)\n",
    "group_names = ['True Neg','False Pos','False Neg','True Pos']\n",
    "group_counts = ['{0:0.0f}'.format(value) for value in\n",
    "                c_matrix.flatten()]\n",
    "group_percentages = ['{0:.2%}'.format(value) for value in\n",
    "                     c_matrix.flatten()/np.sum(c_matrix)]\n",
    "labels = [f'{v1}\\n\\nPrediction: {v2}\\n\\n{v3}' for v1, v2, v3 in\n",
    "          zip(group_names,group_counts,group_percentages)]\n",
    "labels = np.asarray(labels).reshape(2,2)\n",
    "sns.heatmap(c_matrix, annot=labels, fmt='', cmap='Blues')"
   ]
  },
  {
   "cell_type": "code",
   "execution_count": 21,
   "metadata": {},
   "outputs": [
    {
     "name": "stdout",
     "output_type": "stream",
     "text": [
      "[[2552  852]\n",
      " [  74   99]]\n",
      "\n",
      "\n",
      "              precision    recall  f1-score   support\n",
      "\n",
      "           0       0.97      0.75      0.85      3404\n",
      "           1       0.10      0.57      0.18       173\n",
      "\n",
      "    accuracy                           0.74      3577\n",
      "   macro avg       0.54      0.66      0.51      3577\n",
      "weighted avg       0.93      0.74      0.81      3577\n",
      "\n"
     ]
    }
   ],
   "source": [
    "# Gaussian Naive Bayes\n",
    "gausmodel = GaussianNB()\n",
    "gausmodel.fit(X_train_resh, y_train_resh)\n",
    "gausmodel_predict = gausmodel.predict(X_test)\n",
    "print(confusion_matrix(y_test, gausmodel_predict))\n",
    "print('\\n')\n",
    "print(classification_report(y_test, gausmodel_predict))"
   ]
  },
  {
   "cell_type": "code",
   "execution_count": 22,
   "metadata": {},
   "outputs": [
    {
     "data": {
      "text/plain": [
       "<AxesSubplot:>"
      ]
     },
     "execution_count": 22,
     "metadata": {},
     "output_type": "execute_result"
    },
    {
     "data": {
      "image/png": "[encoded data removed]",
      "text/plain": [
       "<Figure size 360x360 with 2 Axes>"
      ]
     },
     "metadata": {},
     "output_type": "display_data"
    }
   ],
   "source": [
    "# Gaussian Naive Bayes Confusion Matrix\n",
    "plt.figure(figsize=(5,5))\n",
    "c_matrix = confusion_matrix(y_test, gausmodel_predict)\n",
    "group_names = ['True Neg','False Pos','False Neg','True Pos']\n",
    "group_counts = ['{0:0.0f}'.format(value) for value in\n",
    "                c_matrix.flatten()]\n",
    "group_percentages = ['{0:.2%}'.format(value) for value in\n",
    "                     c_matrix.flatten()/np.sum(c_matrix)]\n",
    "labels = [f'{v1}\\n\\nPrediction: {v2}\\n\\n{v3}' for v1, v2, v3 in\n",
    "          zip(group_names,group_counts,group_percentages)]\n",
    "labels = np.asarray(labels).reshape(2,2)\n",
    "sns.heatmap(c_matrix, annot=labels, fmt='', cmap='Blues')"
   ]
  },
  {
   "cell_type": "code",
   "execution_count": 23,
   "metadata": {},
   "outputs": [
    {
     "name": "stdout",
     "output_type": "stream",
     "text": [
      "[[3030  374]\n",
      " [ 135   38]]\n",
      "\n",
      "\n",
      "              precision    recall  f1-score   support\n",
      "\n",
      "           0       0.96      0.89      0.92      3404\n",
      "           1       0.09      0.22      0.13       173\n",
      "\n",
      "    accuracy                           0.86      3577\n",
      "   macro avg       0.52      0.55      0.53      3577\n",
      "weighted avg       0.92      0.86      0.88      3577\n",
      "\n"
     ]
    }
   ],
   "source": [
    "# Decision Tree Classifier\n",
    "dtreemodel = DecisionTreeClassifier()\n",
    "dtreemodel.fit(X_train_resh, y_train_resh)\n",
    "dtreemodel_predict = dtreemodel.predict(X_test)\n",
    "print(confusion_matrix(y_test, dtreemodel_predict))\n",
    "print('\\n')\n",
    "print(classification_report(y_test, dtreemodel_predict))"
   ]
  },
  {
   "cell_type": "code",
   "execution_count": 24,
   "metadata": {},
   "outputs": [
    {
     "data": {
      "text/plain": [
       "<AxesSubplot:>"
      ]
     },
     "execution_count": 24,
     "metadata": {},
     "output_type": "execute_result"
    },
    {
     "data": {
      "image/png": "[encoded data removed]",
      "text/plain": [
       "<Figure size 360x360 with 2 Axes>"
      ]
     },
     "metadata": {},
     "output_type": "display_data"
    }
   ],
   "source": [
    "# Decision Tree Classifier Confusion Matrix\n",
    "plt.figure(figsize=(5,5))\n",
    "c_matrix = confusion_matrix(y_test, dtreemodel_predict)\n",
    "group_names = ['True Neg','False Pos','False Neg','True Pos']\n",
    "group_counts = ['{0:0.0f}'.format(value) for value in\n",
    "                c_matrix.flatten()]\n",
    "group_percentages = ['{0:.2%}'.format(value) for value in\n",
    "                     c_matrix.flatten()/np.sum(c_matrix)]\n",
    "labels = [f'{v1}\\n\\nPrediction: {v2}\\n\\n{v3}' for v1, v2, v3 in\n",
    "          zip(group_names,group_counts,group_percentages)]\n",
    "labels = np.asarray(labels).reshape(2,2)\n",
    "sns.heatmap(c_matrix, annot=labels, fmt='', cmap='Blues')"
   ]
  },
  {
   "cell_type": "code",
   "execution_count": 25,
   "metadata": {},
   "outputs": [
    {
     "name": "stdout",
     "output_type": "stream",
     "text": [
      "[[3150  254]\n",
      " [ 142   31]]\n",
      "\n",
      "\n",
      "              precision    recall  f1-score   support\n",
      "\n",
      "           0       0.96      0.93      0.94      3404\n",
      "           1       0.11      0.18      0.14       173\n",
      "\n",
      "    accuracy                           0.89      3577\n",
      "   macro avg       0.53      0.55      0.54      3577\n",
      "weighted avg       0.92      0.89      0.90      3577\n",
      "\n"
     ]
    }
   ],
   "source": [
    "# Random Forest Classifier\n",
    "rfcmodel = RandomForestClassifier()\n",
    "rfcmodel.fit(X_train_resh, y_train_resh)\n",
    "rfcmodel_predict = rfcmodel.predict(X_test)\n",
    "print(confusion_matrix(y_test, rfcmodel_predict))\n",
    "print('\\n')\n",
    "print(classification_report(y_test, rfcmodel_predict))"
   ]
  },
  {
   "cell_type": "code",
   "execution_count": 26,
   "metadata": {},
   "outputs": [
    {
     "data": {
      "text/plain": [
       "<AxesSubplot:>"
      ]
     },
     "execution_count": 26,
     "metadata": {},
     "output_type": "execute_result"
    },
    {
     "data": {
      "image/png": "[encoded data removed]",
      "text/plain": [
       "<Figure size 360x360 with 2 Axes>"
      ]
     },
     "metadata": {},
     "output_type": "display_data"
    }
   ],
   "source": [
    "# Random Forest Classifier Confusion Matrix\n",
    "plt.figure(figsize=(5,5))\n",
    "c_matrix = confusion_matrix(y_test, rfcmodel_predict)\n",
    "group_names = ['True Neg','False Pos','False Neg','True Pos']\n",
    "group_counts = ['{0:0.0f}'.format(value) for value in\n",
    "                c_matrix.flatten()]\n",
    "group_percentages = ['{0:.2%}'.format(value) for value in\n",
    "                     c_matrix.flatten()/np.sum(c_matrix)]\n",
    "labels = [f'{v1}\\n\\nPrediction: {v2}\\n\\n{v3}' for v1, v2, v3 in\n",
    "          zip(group_names,group_counts,group_percentages)]\n",
    "labels = np.asarray(labels).reshape(2,2)\n",
    "sns.heatmap(c_matrix, annot=labels, fmt='', cmap='Blues')"
   ]
  },
  {
   "cell_type": "code",
   "execution_count": 27,
   "metadata": {},
   "outputs": [
    {
     "name": "stdout",
     "output_type": "stream",
     "text": [
      "[[2391 1013]\n",
      " [ 125   48]]\n",
      "\n",
      "\n",
      "              precision    recall  f1-score   support\n",
      "\n",
      "           0       0.95      0.70      0.81      3404\n",
      "           1       0.05      0.28      0.08       173\n",
      "\n",
      "    accuracy                           0.68      3577\n",
      "   macro avg       0.50      0.49      0.44      3577\n",
      "weighted avg       0.91      0.68      0.77      3577\n",
      "\n"
     ]
    }
   ],
   "source": [
    "# BernoulliNB\n",
    "bermodel = BernoulliNB()\n",
    "bermodel.fit(X_train_resh, y_train_resh)\n",
    "bermodel_predict = bermodel.predict(X_test)\n",
    "print(confusion_matrix(y_test, bermodel_predict))\n",
    "print('\\n')\n",
    "print(classification_report(y_test, bermodel_predict))"
   ]
  },
  {
   "cell_type": "code",
   "execution_count": 28,
   "metadata": {},
   "outputs": [
    {
     "data": {
      "text/plain": [
       "<AxesSubplot:>"
      ]
     },
     "execution_count": 28,
     "metadata": {},
     "output_type": "execute_result"
    },
    {
     "data": {
      "image/png": "[encoded data removed]",
      "text/plain": [
       "<Figure size 360x360 with 2 Axes>"
      ]
     },
     "metadata": {},
     "output_type": "display_data"
    }
   ],
   "source": [
    "# BernoulliNB Confusion Matrix\n",
    "plt.figure(figsize=(5,5))\n",
    "c_matrix = confusion_matrix(y_test, bermodel_predict)\n",
    "group_names = ['True Neg','False Pos','False Neg','True Pos']\n",
    "group_counts = ['{0:0.0f}'.format(value) for value in\n",
    "                c_matrix.flatten()]\n",
    "group_percentages = ['{0:.2%}'.format(value) for value in\n",
    "                     c_matrix.flatten()/np.sum(c_matrix)]\n",
    "labels = [f'{v1}\\n\\nPrediction: {v2}\\n\\n{v3}' for v1, v2, v3 in\n",
    "          zip(group_names,group_counts,group_percentages)]\n",
    "labels = np.asarray(labels).reshape(2,2)\n",
    "sns.heatmap(c_matrix, annot=labels, fmt='', cmap='Blues')"
   ]
  },
  {
   "cell_type": "code",
   "execution_count": 29,
   "metadata": {},
   "outputs": [
    {
     "name": "stdout",
     "output_type": "stream",
     "text": [
      "[[3201  203]\n",
      " [ 141   32]]\n",
      "\n",
      "\n",
      "              precision    recall  f1-score   support\n",
      "\n",
      "           0       0.96      0.94      0.95      3404\n",
      "           1       0.14      0.18      0.16       173\n",
      "\n",
      "    accuracy                           0.90      3577\n",
      "   macro avg       0.55      0.56      0.55      3577\n",
      "weighted avg       0.92      0.90      0.91      3577\n",
      "\n"
     ]
    },
    {
     "name": "stderr",
     "output_type": "stream",
     "text": [
      "C:\\Users\\E2\\anaconda3\\lib\\site-packages\\xgboost\\data.py:112: UserWarning: Use subset (sliced data) of np.ndarray is not recommended because it will generate extra copies and increase memory consumption\n",
      "  warnings.warn(\n"
     ]
    }
   ],
   "source": [
    "# XGB Classifier\n",
    "xgbmodel = XGBClassifier(eval_metric='error', use_label_encoder=False)\n",
    "xgbmodel.fit(X_train_resh, y_train_resh)\n",
    "xgbmodel_predict = xgbmodel.predict(X_test)\n",
    "print(confusion_matrix(y_test, xgbmodel_predict))\n",
    "print('\\n')\n",
    "print(classification_report(y_test, xgbmodel_predict))"
   ]
  },
  {
   "cell_type": "code",
   "execution_count": 30,
   "metadata": {},
   "outputs": [
    {
     "data": {
      "text/plain": [
       "<AxesSubplot:>"
      ]
     },
     "execution_count": 30,
     "metadata": {},
     "output_type": "execute_result"
    },
    {
     "data": {
      "image/png": "[encoded data removed]",
      "text/plain": [
       "<Figure size 360x360 with 2 Axes>"
      ]
     },
     "metadata": {},
     "output_type": "display_data"
    }
   ],
   "source": [
    "# XGB Classifier Confusion Matrix\n",
    "plt.figure(figsize=(5,5))\n",
    "c_matrix = confusion_matrix(y_test, xgbmodel_predict)\n",
    "group_names = ['True Neg','False Pos','False Neg','True Pos']\n",
    "group_counts = ['{0:0.0f}'.format(value) for value in\n",
    "                c_matrix.flatten()]\n",
    "group_percentages = ['{0:.2%}'.format(value) for value in\n",
    "                     c_matrix.flatten()/np.sum(c_matrix)]\n",
    "labels = [f'{v1}\\n\\nPrediction: {v2}\\n\\n{v3}' for v1, v2, v3 in\n",
    "          zip(group_names,group_counts,group_percentages)]\n",
    "labels = np.asarray(labels).reshape(2,2)\n",
    "sns.heatmap(c_matrix, annot=labels, fmt='', cmap='Blues')"
   ]
  },
  {
   "cell_type": "code",
   "execution_count": 31,
   "metadata": {},
   "outputs": [],
   "source": [
    "# -------------------------------------------------------"
   ]
  },
  {
   "cell_type": "code",
   "execution_count": 32,
   "metadata": {},
   "outputs": [],
   "source": [
    "# Tuning The Models"
   ]
  },
  {
   "cell_type": "code",
   "execution_count": 68,
   "metadata": {},
   "outputs": [
    {
     "name": "stdout",
     "output_type": "stream",
     "text": [
      "Logistic Regression\n",
      "\n",
      "Best Accuracy: % 83.25\n",
      "\n",
      "Best Parameters: {'C': 1}\n",
      "\n"
     ]
    }
   ],
   "source": [
    "# Logistic Regression With GRID\n",
    "param_grid = {'C':[0.25, 0.5, 0.75, 1]}\n",
    "logmodel_grid = GridSearchCV(LogisticRegression(solver = 'lbfgs', max_iter=3000), param_grid)\n",
    "logmodel_grid.fit(X_train_resh, y_train_resh)\n",
    "print('Logistic Regression\\n')\n",
    "print(f'Best Accuracy: % {(logmodel_grid.best_score_ * 100):.2f}\\n')\n",
    "print(f'Best Parameters: {logmodel_grid.best_params_}\\n')"
   ]
  },
  {
   "cell_type": "code",
   "execution_count": 70,
   "metadata": {},
   "outputs": [
    {
     "name": "stdout",
     "output_type": "stream",
     "text": [
      "Support Vector Machine\n",
      "\n",
      "Best Accuracy: % 83.36\n",
      "\n",
      "Best Parameters: {'C': 1, 'kernel': 'linear'}\n",
      "\n"
     ]
    }
   ],
   "source": [
    "# Support Vector Machine With GRID\n",
    "param_grid = {'C':[0.25, 0.5, 0.75, 1],'kernel':['linear', 'rbf']}\n",
    "svmmodel_grid = GridSearchCV(SVC(), param_grid)\n",
    "svmmodel_grid.fit(X_train_resh, y_train_resh)\n",
    "print('Support Vector Machine\\n')\n",
    "print(f'Best Accuracy: % {(svmmodel_grid.best_score_ * 100):.2f}\\n')\n",
    "print(f'Best Parameters: {svmmodel_grid.best_params_}\\n')"
   ]
  },
  {
   "cell_type": "code",
   "execution_count": 71,
   "metadata": {},
   "outputs": [
    {
     "name": "stdout",
     "output_type": "stream",
     "text": [
      "K Nearst Neighbor\n",
      "\n",
      "Best Accuracy: % 89.02\n",
      "\n",
      "Best Parameters: {'metric': 'manhattan', 'n_neighbors': 5}\n",
      "\n"
     ]
    }
   ],
   "source": [
    "# K Nearst Neighbor With GRID\n",
    "param_grid = {'n_neighbors':[5,7,8,10], 'metric': ['euclidean', 'manhattan', 'chebyshev', 'minkowski']}\n",
    "knnmodel_grid = GridSearchCV(KNeighborsClassifier(), param_grid)\n",
    "knnmodel_grid.fit(X_train_resh, y_train_resh)\n",
    "print('K Nearst Neighbor\\n')\n",
    "print(f'Best Accuracy: % {(knnmodel_grid.best_score_ * 100):.2f}\\n')\n",
    "print(f'Best Parameters: {knnmodel_grid.best_params_}\\n')"
   ]
  },
  {
   "cell_type": "code",
   "execution_count": 72,
   "metadata": {},
   "outputs": [
    {
     "name": "stdout",
     "output_type": "stream",
     "text": [
      "Gaussian Naive Bayes\n",
      "\n",
      "Best Accuracy: % 84.66\n",
      "\n",
      "Best Parameters: {'var_smoothing': 1e-09}\n",
      "\n"
     ]
    }
   ],
   "source": [
    "# Gaussian Naive Bayes With GRID\n",
    "param_grid = {'var_smoothing': [1e-09]}\n",
    "gnbmodel_grid = GridSearchCV(GaussianNB(), param_grid)\n",
    "gnbmodel_grid.fit(X_train_resh, y_train_resh)\n",
    "print('Gaussian Naive Bayes\\n')\n",
    "print(f'Best Accuracy: % {(gnbmodel_grid.best_score_ * 100):.2f}\\n')\n",
    "print(f'Best Parameters: {gnbmodel_grid.best_params_}\\n')"
   ]
  },
  {
   "cell_type": "code",
   "execution_count": 73,
   "metadata": {},
   "outputs": [
    {
     "name": "stdout",
     "output_type": "stream",
     "text": [
      "Decision Tree Classifier\n",
      "\n",
      "Best Accuracy: % 90.98\n",
      "\n",
      "Best Parameters: {'criterion': 'gini'}\n",
      "\n"
     ]
    }
   ],
   "source": [
    "# Decision Tree Classifier With GRID\n",
    "param_grid = {'criterion':['gini','entropy']}\n",
    "dtreemodel_grid = GridSearchCV(DecisionTreeClassifier(), param_grid)\n",
    "dtreemodel_grid.fit(X_train_resh, y_train_resh)\n",
    "print('Decision Tree Classifier\\n')\n",
    "print(f'Best Accuracy: % {(dtreemodel_grid.best_score_ * 100):.2f}\\n')\n",
    "print(f'Best Parameters: {dtreemodel_grid.best_params_}\\n')"
   ]
  },
  {
   "cell_type": "code",
   "execution_count": 74,
   "metadata": {},
   "outputs": [
    {
     "name": "stdout",
     "output_type": "stream",
     "text": [
      "Random Forest Classifier\n",
      "\n",
      "Best Accuracy: % 93.72\n",
      "\n",
      "Best Parameters: {'criterion': 'entropy', 'n_estimators': 100}\n",
      "\n"
     ]
    }
   ],
   "source": [
    "# Random Forest Classifier With GRID\n",
    "param_grid = {'n_estimators':[100,150,200],'criterion':['gini','entropy']}\n",
    "rfcmodel_grid = GridSearchCV(RandomForestClassifier(), param_grid)\n",
    "rfcmodel_grid.fit(X_train_resh, y_train_resh)\n",
    "print('Random Forest Classifier\\n')\n",
    "print(f'Best Accuracy: % {(rfcmodel_grid.best_score_ * 100):.2f}\\n')\n",
    "print(f'Best Parameters: {rfcmodel_grid.best_params_}\\n')"
   ]
  },
  {
   "cell_type": "code",
   "execution_count": 75,
   "metadata": {},
   "outputs": [
    {
     "name": "stdout",
     "output_type": "stream",
     "text": [
      "BernoulliNB\n",
      "\n",
      "Best Accuracy: % 67.09\n",
      "\n",
      "Best Parameters: {'alpha': 0.25}\n",
      "\n"
     ]
    }
   ],
   "source": [
    "# BernoulliNB With GRID\n",
    "param_grid = {'alpha': [0.25, 0.5, 1]}\n",
    "bnbmodel_grid = GridSearchCV(BernoulliNB(), param_grid)\n",
    "bnbmodel_grid.fit(X_train_resh, y_train_resh)\n",
    "print('BernoulliNB\\n')\n",
    "print(f'Best Accuracy: % {(bnbmodel_grid.best_score_ * 100):.2f}\\n')\n",
    "print(f'Best Parameters: {bnbmodel_grid.best_params_}\\n')"
   ]
  },
  {
   "cell_type": "code",
   "execution_count": 76,
   "metadata": {},
   "outputs": [
    {
     "name": "stderr",
     "output_type": "stream",
     "text": [
      "C:\\Users\\E2\\anaconda3\\lib\\site-packages\\xgboost\\data.py:112: UserWarning: Use subset (sliced data) of np.ndarray is not recommended because it will generate extra copies and increase memory consumption\n",
      "  warnings.warn(\n"
     ]
    },
    {
     "name": "stdout",
     "output_type": "stream",
     "text": [
      "XGB Classifier\n",
      "\n",
      "Best Accuracy: % 93.24\n",
      "\n",
      "Best Parameters: {'eval_metric': 'error', 'learning_rate': 0.1}\n",
      "\n"
     ]
    }
   ],
   "source": [
    "# XGB Classifier With GRID\n",
    "param_grid = {'learning_rate': [0.01, 0.05, 0.1], 'eval_metric': ['error']}\n",
    "xgbmodel_grid = GridSearchCV(XGBClassifier(use_label_encoder=False), param_grid)\n",
    "xgbmodel_grid.fit(X_train_resh, y_train_resh)\n",
    "print('XGB Classifier\\n')\n",
    "print(f'Best Accuracy: % {(xgbmodel_grid.best_score_ * 100):.2f}\\n')\n",
    "print(f'Best Parameters: {xgbmodel_grid.best_params_}\\n')"
   ]
  },
  {
   "cell_type": "code",
   "execution_count": 41,
   "metadata": {},
   "outputs": [],
   "source": [
    "data = {'Algorithm':['LR', 'SVM', 'KNN', 'GNB', 'DT', 'RF', 'BNB', 'XGB'],\n",
    "        'Accuracy':[accuracy_score(y_test, logmodel_predict) * 100, accuracy_score(y_test, svcmodel_predict) * 100,\n",
    "                    accuracy_score(y_test, knnmodel_predict) * 100, accuracy_score(y_test, gausmodel_predict) * 100,\n",
    "                    accuracy_score(y_test, dtreemodel_predict) * 100, accuracy_score(y_test, rfcmodel_predict) * 100,\n",
    "                    accuracy_score(y_test, bermodel_predict) * 100, accuracy_score(y_test, xgbmodel_predict) * 100],\n",
    "         'Precision':[precision_score(y_test, logmodel_predict), precision_score(y_test, svcmodel_predict),\n",
    "                    precision_score(y_test, knnmodel_predict), precision_score(y_test, gausmodel_predict),\n",
    "                    precision_score(y_test, dtreemodel_predict), precision_score(y_test, rfcmodel_predict),\n",
    "                    precision_score(y_test, bermodel_predict), precision_score(y_test, xgbmodel_predict)],\n",
    "         'Recall':[recall_score(y_test, logmodel_predict), recall_score(y_test, svcmodel_predict),\n",
    "                    recall_score(y_test, knnmodel_predict), recall_score(y_test, gausmodel_predict),\n",
    "                    recall_score(y_test, dtreemodel_predict), recall_score(y_test, rfcmodel_predict),\n",
    "                    recall_score(y_test, bermodel_predict), recall_score(y_test, xgbmodel_predict)],\n",
    "         'F-Score':[f1_score(y_test, logmodel_predict), f1_score(y_test, svcmodel_predict),\n",
    "                    f1_score(y_test, knnmodel_predict), f1_score(y_test, gausmodel_predict),\n",
    "                    f1_score(y_test, dtreemodel_predict), f1_score(y_test, rfcmodel_predict),\n",
    "                    f1_score(y_test, bermodel_predict), f1_score(y_test, xgbmodel_predict)],\n",
    "         'ROC Area':[roc_auc_score(y_test, logmodel_predict), roc_auc_score(y_test, svcmodel_predict),\n",
    "                    roc_auc_score(y_test, knnmodel_predict), roc_auc_score(y_test, gausmodel_predict),\n",
    "                    roc_auc_score(y_test, dtreemodel_predict), roc_auc_score(y_test, rfcmodel_predict),\n",
    "                    roc_auc_score(y_test, bermodel_predict), roc_auc_score(y_test, xgbmodel_predict)]}\n",
    "df_experiment = pd.DataFrame(data)"
   ]
  },
  {
   "cell_type": "code",
   "execution_count": 42,
   "metadata": {
    "scrolled": true
   },
   "outputs": [
    {
     "data": {
      "text/html": [
       "<div>\n",
       "<style scoped>\n",
       "    .dataframe tbody tr th:only-of-type {\n",
       "        vertical-align: middle;\n",
       "    }\n",
       "\n",
       "    .dataframe tbody tr th {\n",
       "        vertical-align: top;\n",
       "    }\n",
       "\n",
       "    .dataframe thead th {\n",
       "        text-align: right;\n",
       "    }\n",
       "</style>\n",
       "<table border=\"1\" class=\"dataframe\">\n",
       "  <thead>\n",
       "    <tr style=\"text-align: right;\">\n",
       "      <th></th>\n",
       "      <th>Algorithm</th>\n",
       "      <th>Accuracy</th>\n",
       "      <th>Precision</th>\n",
       "      <th>Recall</th>\n",
       "      <th>F-Score</th>\n",
       "      <th>ROC Area</th>\n",
       "    </tr>\n",
       "  </thead>\n",
       "  <tbody>\n",
       "    <tr>\n",
       "      <th>0</th>\n",
       "      <td>LR</td>\n",
       "      <td>77.047805</td>\n",
       "      <td>0.120609</td>\n",
       "      <td>0.595376</td>\n",
       "      <td>0.200584</td>\n",
       "      <td>0.687376</td>\n",
       "    </tr>\n",
       "    <tr>\n",
       "      <th>1</th>\n",
       "      <td>SVM</td>\n",
       "      <td>69.108191</td>\n",
       "      <td>0.116776</td>\n",
       "      <td>0.820809</td>\n",
       "      <td>0.204464</td>\n",
       "      <td>0.752649</td>\n",
       "    </tr>\n",
       "    <tr>\n",
       "      <th>2</th>\n",
       "      <td>KNN</td>\n",
       "      <td>77.914453</td>\n",
       "      <td>0.109987</td>\n",
       "      <td>0.502890</td>\n",
       "      <td>0.180498</td>\n",
       "      <td>0.648037</td>\n",
       "    </tr>\n",
       "    <tr>\n",
       "      <th>3</th>\n",
       "      <td>GNB</td>\n",
       "      <td>74.112385</td>\n",
       "      <td>0.104101</td>\n",
       "      <td>0.572254</td>\n",
       "      <td>0.176157</td>\n",
       "      <td>0.660980</td>\n",
       "    </tr>\n",
       "    <tr>\n",
       "      <th>4</th>\n",
       "      <td>DT</td>\n",
       "      <td>85.770198</td>\n",
       "      <td>0.092233</td>\n",
       "      <td>0.219653</td>\n",
       "      <td>0.129915</td>\n",
       "      <td>0.554891</td>\n",
       "    </tr>\n",
       "    <tr>\n",
       "      <th>5</th>\n",
       "      <td>RF</td>\n",
       "      <td>88.929270</td>\n",
       "      <td>0.108772</td>\n",
       "      <td>0.179191</td>\n",
       "      <td>0.135371</td>\n",
       "      <td>0.552286</td>\n",
       "    </tr>\n",
       "    <tr>\n",
       "      <th>6</th>\n",
       "      <td>BNB</td>\n",
       "      <td>68.185630</td>\n",
       "      <td>0.045240</td>\n",
       "      <td>0.277457</td>\n",
       "      <td>0.077796</td>\n",
       "      <td>0.489933</td>\n",
       "    </tr>\n",
       "    <tr>\n",
       "      <th>7</th>\n",
       "      <td>XGB</td>\n",
       "      <td>90.383003</td>\n",
       "      <td>0.136170</td>\n",
       "      <td>0.184971</td>\n",
       "      <td>0.156863</td>\n",
       "      <td>0.562668</td>\n",
       "    </tr>\n",
       "  </tbody>\n",
       "</table>\n",
       "</div>"
      ],
      "text/plain": [
       "  Algorithm   Accuracy  Precision    Recall   F-Score  ROC Area\n",
       "0        LR  77.047805   0.120609  0.595376  0.200584  0.687376\n",
       "1       SVM  69.108191   0.116776  0.820809  0.204464  0.752649\n",
       "2       KNN  77.914453   0.109987  0.502890  0.180498  0.648037\n",
       "3       GNB  74.112385   0.104101  0.572254  0.176157  0.660980\n",
       "4        DT  85.770198   0.092233  0.219653  0.129915  0.554891\n",
       "5        RF  88.929270   0.108772  0.179191  0.135371  0.552286\n",
       "6       BNB  68.185630   0.045240  0.277457  0.077796  0.489933\n",
       "7       XGB  90.383003   0.136170  0.184971  0.156863  0.562668"
      ]
     },
     "execution_count": 42,
     "metadata": {},
     "output_type": "execute_result"
    }
   ],
   "source": [
    "df_experiment.head(10)"
   ]
  },
  {
   "cell_type": "code",
   "execution_count": 65,
   "metadata": {},
   "outputs": [
    {
     "data": {
      "text/plain": [
       "<AxesSubplot:title={'center':'Algorithm Accuracies With Default Parameters'}, xlabel='Accuracy', ylabel='Algorithm'>"
      ]
     },
     "execution_count": 65,
     "metadata": {},
     "output_type": "execute_result"
    },
    {
     "data": {
      "image/png": "[encoded data removed]",
      "text/plain": [
       "<Figure size 576x576 with 1 Axes>"
      ]
     },
     "metadata": {},
     "output_type": "display_data"
    }
   ],
   "source": [
    "# Algorithm Accuracies With Default Parameters\n",
    "df_experiment.sort_values(by='Accuracy', inplace=True)\n",
    "plt.figure(figsize=(8,8))\n",
    "plt.title('Algorithm Accuracies With Default Parameters')\n",
    "sns.barplot(x='Accuracy', y='Algorithm', data=df_experiment)"
   ]
  },
  {
   "cell_type": "code",
   "execution_count": 61,
   "metadata": {},
   "outputs": [],
   "source": [
    "# Algorithm Accuracies With Best Parameters\n",
    "data2 = {'Algorithm':['LR', 'SVM', 'KNN', 'GNB', 'DT', 'RF', 'BNB', 'XGB'],\n",
    "        'Accuracy':[(logmodel_grid.best_score_ * 100), (svmmodel_grid.best_score_ * 100),\n",
    "                    (knnmodel_grid.best_score_ * 100), (gnbmodel_grid.best_score_ * 100),\n",
    "                    (dtreemodel_grid.best_score_ * 100), (rfcmodel_grid.best_score_ * 100),\n",
    "                    (bnbmodel_grid.best_score_ * 100), (xgbmodel_grid.best_score_ * 100)]\n",
    "         }\n",
    "df_experiment_Best_Values = pd.DataFrame(data2)"
   ]
  },
  {
   "cell_type": "code",
   "execution_count": 67,
   "metadata": {},
   "outputs": [
    {
     "data": {
      "text/plain": [
       "<AxesSubplot:title={'center':'Algorithm Accuracies With Best Parameters'}, xlabel='Accuracy', ylabel='Algorithm'>"
      ]
     },
     "execution_count": 67,
     "metadata": {},
     "output_type": "execute_result"
    },
    {
     "data": {
      "image/png": "[encoded data removed]",
      "text/plain": [
       "<Figure size 576x576 with 1 Axes>"
      ]
     },
     "metadata": {},
     "output_type": "display_data"
    }
   ],
   "source": [
    "# Algorithm Accuracies With Best Parameters\n",
    "df_experiment_Best_Values.sort_values(by='Accuracy', inplace=True)\n",
    "plt.figure(figsize=(8,8))\n",
    "plt.title('Algorithm Accuracies With Best Parameters')\n",
    "sns.barplot(x='Accuracy', y='Algorithm', data=df_experiment_Best_Values)"
   ]
  },
  {
   "cell_type": "code",
   "execution_count": 64,
   "metadata": {},
   "outputs": [
    {
     "data": {
      "text/html": [
       "<div>\n",
       "<style scoped>\n",
       "    .dataframe tbody tr th:only-of-type {\n",
       "        vertical-align: middle;\n",
       "    }\n",
       "\n",
       "    .dataframe tbody tr th {\n",
       "        vertical-align: top;\n",
       "    }\n",
       "\n",
       "    .dataframe thead th {\n",
       "        text-align: right;\n",
       "    }\n",
       "</style>\n",
       "<table border=\"1\" class=\"dataframe\">\n",
       "  <thead>\n",
       "    <tr style=\"text-align: right;\">\n",
       "      <th></th>\n",
       "      <th>Algorithm</th>\n",
       "      <th>Accuracy</th>\n",
       "    </tr>\n",
       "  </thead>\n",
       "  <tbody>\n",
       "    <tr>\n",
       "      <th>6</th>\n",
       "      <td>BNB</td>\n",
       "      <td>67.090532</td>\n",
       "    </tr>\n",
       "    <tr>\n",
       "      <th>0</th>\n",
       "      <td>LR</td>\n",
       "      <td>83.253464</td>\n",
       "    </tr>\n",
       "    <tr>\n",
       "      <th>1</th>\n",
       "      <td>SVM</td>\n",
       "      <td>83.356262</td>\n",
       "    </tr>\n",
       "    <tr>\n",
       "      <th>3</th>\n",
       "      <td>GNB</td>\n",
       "      <td>84.660572</td>\n",
       "    </tr>\n",
       "    <tr>\n",
       "      <th>2</th>\n",
       "      <td>KNN</td>\n",
       "      <td>89.018762</td>\n",
       "    </tr>\n",
       "    <tr>\n",
       "      <th>4</th>\n",
       "      <td>DT</td>\n",
       "      <td>90.803699</td>\n",
       "    </tr>\n",
       "    <tr>\n",
       "      <th>7</th>\n",
       "      <td>XGB</td>\n",
       "      <td>93.239907</td>\n",
       "    </tr>\n",
       "    <tr>\n",
       "      <th>5</th>\n",
       "      <td>RF</td>\n",
       "      <td>93.926367</td>\n",
       "    </tr>\n",
       "  </tbody>\n",
       "</table>\n",
       "</div>"
      ],
      "text/plain": [
       "  Algorithm   Accuracy\n",
       "6       BNB  67.090532\n",
       "0        LR  83.253464\n",
       "1       SVM  83.356262\n",
       "3       GNB  84.660572\n",
       "2       KNN  89.018762\n",
       "4        DT  90.803699\n",
       "7       XGB  93.239907\n",
       "5        RF  93.926367"
      ]
     },
     "execution_count": 64,
     "metadata": {},
     "output_type": "execute_result"
    }
   ],
   "source": [
    "df_experiment_Best_Values.head(10)"
   ]
  }
 ],
 "metadata": {
  "kernelspec": {
   "display_name": "Python 3",
   "language": "python",
   "name": "python3"
  },
  "language_info": {
   "codemirror_mode": {
    "name": "ipython",
    "version": 3
   },
   "file_extension": ".py",
   "mimetype": "text/x-python",
   "name": "python",
   "nbconvert_exporter": "python",
   "pygments_lexer": "ipython3",
   "version": "3.8.3"
  }
 },
 "nbformat": 4,
 "nbformat_minor": 4
}
